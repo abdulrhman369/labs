{
  "nbformat": 4,
  "nbformat_minor": 0,
  "metadata": {
    "colab": {
      "provenance": [],
      "authorship_tag": "ABX9TyNRGozhAenuQgdZQO/apihr",
      "include_colab_link": true
    },
    "kernelspec": {
      "name": "python3",
      "display_name": "Python 3"
    },
    "language_info": {
      "name": "python"
    }
  },
  "cells": [
    {
      "cell_type": "markdown",
      "metadata": {
        "id": "view-in-github",
        "colab_type": "text"
      },
      "source": [
        "<a href=\"https://colab.research.google.com/github/abdulrhman369/labs/blob/main/Practice3.ipynb\" target=\"_parent\"><img src=\"https://colab.research.google.com/assets/colab-badge.svg\" alt=\"Open In Colab\"/></a>"
      ]
    },
    {
      "cell_type": "code",
      "execution_count": 1,
      "metadata": {
        "id": "mK7BQ1KU5AC5"
      },
      "outputs": [],
      "source": [
        "# importing required libraries\n",
        "# importing Scikit-learn library and datasets package\n",
        "from sklearn import datasets\n",
        "\n",
        "# Loading the iris plants dataset (classification)\n",
        "iris = datasets.load_iris()\n"
      ]
    },
    {
      "cell_type": "code",
      "source": [
        "print(iris.target_names)\n"
      ],
      "metadata": {
        "colab": {
          "base_uri": "https://localhost:8080/"
        },
        "id": "2mzG2VAd5E5q",
        "outputId": "295611ef-7b61-41f3-e30b-01ddf72b0f3f"
      },
      "execution_count": 2,
      "outputs": [
        {
          "output_type": "stream",
          "name": "stdout",
          "text": [
            "['setosa' 'versicolor' 'virginica']\n"
          ]
        }
      ]
    },
    {
      "cell_type": "code",
      "source": [
        "print(iris.feature_names)\n"
      ],
      "metadata": {
        "colab": {
          "base_uri": "https://localhost:8080/"
        },
        "id": "m7xX_xFg5JDK",
        "outputId": "5efe2908-69bf-4e9e-e5de-426deb4e356e"
      },
      "execution_count": 3,
      "outputs": [
        {
          "output_type": "stream",
          "name": "stdout",
          "text": [
            "['sepal length (cm)', 'sepal width (cm)', 'petal length (cm)', 'petal width (cm)']\n"
          ]
        }
      ]
    },
    {
      "cell_type": "code",
      "source": [
        "# dividing the datasets into two parts i.e. training datasets and test datasets\n",
        "X, y = datasets.load_iris( return_X_y = True)\n",
        "\n",
        "# Splitting arrays or matrices into random train and test subsets\n",
        "from sklearn.model_selection import train_test_split\n",
        "# i.e. 70 % training dataset and 30 % test datasets\n",
        "X_train, X_test, y_train, y_test = train_test_split(X, y, test_size = 0.30)\n"
      ],
      "metadata": {
        "id": "7GoizzfX5NjV"
      },
      "execution_count": 4,
      "outputs": []
    },
    {
      "cell_type": "code",
      "source": [
        "# importing random forest classifier from assemble module\n",
        "from sklearn.ensemble import RandomForestClassifier\n",
        "import pandas as pd\n",
        "# creating dataframe of IRIS dataset\n",
        "data = pd.DataFrame({'sepallength': iris.data[:, 0], 'sepalwidth': iris.data[:, 1],\n",
        "\t\t\t\t\t'petallength': iris.data[:, 2], 'petalwidth': iris.data[:, 3],\n",
        "\t\t\t\t\t'species': iris.target})\n"
      ],
      "metadata": {
        "id": "htCY4azX5TfA"
      },
      "execution_count": 5,
      "outputs": []
    },
    {
      "cell_type": "code",
      "source": [
        "# printing the top 5 datasets in iris dataset\n",
        "print(data.head())\n"
      ],
      "metadata": {
        "colab": {
          "base_uri": "https://localhost:8080/"
        },
        "id": "BDQijo5M5XOq",
        "outputId": "5fc94d21-f3df-45fb-d4dd-c1e86a214d02"
      },
      "execution_count": 6,
      "outputs": [
        {
          "output_type": "stream",
          "name": "stdout",
          "text": [
            "   sepallength  sepalwidth  petallength  petalwidth  species\n",
            "0          5.1         3.5          1.4         0.2        0\n",
            "1          4.9         3.0          1.4         0.2        0\n",
            "2          4.7         3.2          1.3         0.2        0\n",
            "3          4.6         3.1          1.5         0.2        0\n",
            "4          5.0         3.6          1.4         0.2        0\n"
          ]
        }
      ]
    },
    {
      "cell_type": "code",
      "source": [
        "# creating a RF classifier\n",
        "clf = RandomForestClassifier(n_estimators = 100)\n",
        "\n",
        "# Training the model on the training dataset\n",
        "# fit function is used to train the model using the training sets as parameters\n",
        "clf.fit(X_train, y_train)\n",
        "\n",
        "# performing predictions on the test dataset\n",
        "y_pred = clf.predict(X_test)\n",
        "\n",
        "# metrics are used to find accuracy or error\n",
        "from sklearn import metrics\n",
        "print()\n",
        "\n",
        "# using metrics module for accuracy calculation\n",
        "print(\"ACCURACY OF THE MODEL:\", metrics.accuracy_score(y_test, y_pred))\n"
      ],
      "metadata": {
        "colab": {
          "base_uri": "https://localhost:8080/"
        },
        "id": "aJjs80tB5blY",
        "outputId": "11e40916-ccdd-4e99-ec71-58586900447c"
      },
      "execution_count": 7,
      "outputs": [
        {
          "output_type": "stream",
          "name": "stdout",
          "text": [
            "\n",
            "ACCURACY OF THE MODEL: 0.9555555555555556\n"
          ]
        }
      ]
    },
    {
      "cell_type": "code",
      "source": [
        "# predicting which type of flower it is.\n",
        "clf.predict([[3, 3, 2, 2]])\n"
      ],
      "metadata": {
        "colab": {
          "base_uri": "https://localhost:8080/"
        },
        "id": "UTHXRr3Y5eqV",
        "outputId": "9ef4931d-a83c-4684-a5d9-897a0351fd68"
      },
      "execution_count": 8,
      "outputs": [
        {
          "output_type": "execute_result",
          "data": {
            "text/plain": [
              "array([0])"
            ]
          },
          "metadata": {},
          "execution_count": 8
        }
      ]
    },
    {
      "cell_type": "code",
      "source": [
        "# using the feature importance variable\n",
        "import pandas as pd\n",
        "feature_imp = pd.Series(clf.feature_importances_, index = iris.feature_names).sort_values(ascending = False)\n",
        "feature_imp\n"
      ],
      "metadata": {
        "colab": {
          "base_uri": "https://localhost:8080/",
          "height": 209
        },
        "id": "ESHGN_go5mix",
        "outputId": "d340207f-cf98-402c-8611-7be435b60f4a"
      },
      "execution_count": 9,
      "outputs": [
        {
          "output_type": "execute_result",
          "data": {
            "text/plain": [
              "petal length (cm)    0.437989\n",
              "petal width (cm)     0.422722\n",
              "sepal length (cm)    0.114493\n",
              "sepal width (cm)     0.024796\n",
              "dtype: float64"
            ],
            "text/html": [
              "<div>\n",
              "<style scoped>\n",
              "    .dataframe tbody tr th:only-of-type {\n",
              "        vertical-align: middle;\n",
              "    }\n",
              "\n",
              "    .dataframe tbody tr th {\n",
              "        vertical-align: top;\n",
              "    }\n",
              "\n",
              "    .dataframe thead th {\n",
              "        text-align: right;\n",
              "    }\n",
              "</style>\n",
              "<table border=\"1\" class=\"dataframe\">\n",
              "  <thead>\n",
              "    <tr style=\"text-align: right;\">\n",
              "      <th></th>\n",
              "      <th>0</th>\n",
              "    </tr>\n",
              "  </thead>\n",
              "  <tbody>\n",
              "    <tr>\n",
              "      <th>petal length (cm)</th>\n",
              "      <td>0.437989</td>\n",
              "    </tr>\n",
              "    <tr>\n",
              "      <th>petal width (cm)</th>\n",
              "      <td>0.422722</td>\n",
              "    </tr>\n",
              "    <tr>\n",
              "      <th>sepal length (cm)</th>\n",
              "      <td>0.114493</td>\n",
              "    </tr>\n",
              "    <tr>\n",
              "      <th>sepal width (cm)</th>\n",
              "      <td>0.024796</td>\n",
              "    </tr>\n",
              "  </tbody>\n",
              "</table>\n",
              "</div><br><label><b>dtype:</b> float64</label>"
            ]
          },
          "metadata": {},
          "execution_count": 9
        }
      ]
    },
    {
      "cell_type": "code",
      "source": [],
      "metadata": {
        "id": "ELd24-V75qNA"
      },
      "execution_count": null,
      "outputs": []
    }
  ]
}